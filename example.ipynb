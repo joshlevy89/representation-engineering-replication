{
 "cells": [
  {
   "cell_type": "markdown",
   "id": "7a31a213-f00f-462e-bc9d-861633f71082",
   "metadata": {},
   "source": [
    "## Setup"
   ]
  },
  {
   "cell_type": "code",
   "execution_count": 2,
   "id": "574c865c-c179-47cd-b331-9283352504d1",
   "metadata": {},
   "outputs": [],
   "source": [
    "%load_ext autoreload\n",
    "%autoreload 2"
   ]
  },
  {
   "cell_type": "code",
   "execution_count": 6,
   "id": "251233a9-70b4-46c0-8d9c-b6f1dedd5468",
   "metadata": {},
   "outputs": [],
   "source": [
    "import pandas as pd\n",
    "from transformers import AutoModelForCausalLM, AutoTokenizer, pipeline\n",
    "from collections import defaultdict\n",
    "import os\n",
    "import pickle\n",
    "from tqdm import tqdm\n",
    "import torch\n",
    "import numpy as np\n",
    "import plotly.express as px"
   ]
  },
  {
   "cell_type": "code",
   "execution_count": 7,
   "id": "481e0c21-e1e5-43c3-afae-03934af8261b",
   "metadata": {},
   "outputs": [],
   "source": [
    "model_path = '/storage/models'\n",
    "# model_name = 'mistral-GPTQ-4bit'\n",
    "# model_name = 'Mistral-7B-Instruct-v0.1'\n",
    "model_name = 'mistral-GPTQ-4bit-v0.1'\n",
    "device='cuda:0'"
   ]
  },
  {
   "cell_type": "code",
   "execution_count": 8,
   "id": "65d76e35-3f1a-4e8a-931d-61e101fd022d",
   "metadata": {},
   "outputs": [
    {
     "name": "stderr",
     "output_type": "stream",
     "text": [
      "/opt/conda/lib/python3.10/site-packages/transformers/modeling_utils.py:4193: FutureWarning: `_is_quantized_training_enabled` is going to be deprecated in transformers 4.39.0. Please use `model.hf_quantizer.is_trainable` instead\n",
      "  warnings.warn(\n"
     ]
    }
   ],
   "source": [
    "model_name_or_path = f'{model_path}/{model_name}'\n",
    "model = AutoModelForCausalLM.from_pretrained(model_name_or_path, torch_dtype=torch.float16, device_map='auto')\n",
    "tokenizer = AutoTokenizer.from_pretrained(model_name_or_path, use_fast=True, padding_side=\"left\", legacy=False)\n",
    "tokenizer.pad_token_id = 0"
   ]
  },
  {
   "cell_type": "code",
   "execution_count": 10,
   "id": "52a598b4-3a54-41c7-9f3a-926cace60be2",
   "metadata": {},
   "outputs": [],
   "source": [
    "user_tag = \"[INST]\"\n",
    "assistant_tag = \"[/INST]\""
   ]
  },
  {
   "cell_type": "markdown",
   "id": "3a9b064e-1fe9-4679-b687-14be64371b47",
   "metadata": {},
   "source": [
    "## Train honesty extraction"
   ]
  },
  {
   "cell_type": "code",
   "execution_count": 53,
   "id": "7800e823-e701-4245-ab02-6ca73facdbed",
   "metadata": {},
   "outputs": [],
   "source": [
    "he = HonestyExtractor(model, tokenizer, user_tag, assistant_tag)\n",
    "direction_info = he.find_honesty_directions()"
   ]
  },
  {
   "cell_type": "code",
   "execution_count": 54,
   "id": "f1676625-6448-40eb-b91c-b33ca982dbec",
   "metadata": {},
   "outputs": [
    {
     "data": {
      "image/png": "[encoded data removed]",
      "text/plain": [
       "<Figure size 640x480 with 1 Axes>"
      ]
     },
     "metadata": {},
     "output_type": "display_data"
    }
   ],
   "source": [
    "test_act_pairs = get_activations_for_paired_statements(statement_pairs, model, tokenizer, sample_range=[512, 768]) \n",
    "accs = get_accs_for_pairs(test_act_pairs, direction_info)\n",
    "\n",
    "import matplotlib.pyplot as plt\n",
    "plt.plot(accs, '-o')\n",
    "plt.show()"
   ]
  },
  {
   "cell_type": "code",
   "execution_count": null,
   "id": "d6ff199a-921c-49e7-b931-4543bbef31cf",
   "metadata": {},
   "outputs": [],
   "source": [
    "\n"
   ]
  }
 ],
 "metadata": {
  "kernelspec": {
   "display_name": "Python 3 (ipykernel)",
   "language": "python",
   "name": "python3"
  },
  "language_info": {
   "codemirror_mode": {
    "name": "ipython",
    "version": 3
   },
   "file_extension": ".py",
   "mimetype": "text/x-python",
   "name": "python",
   "nbconvert_exporter": "python",
   "pygments_lexer": "ipython3",
   "version": "3.10.13"
  }
 },
 "nbformat": 4,
 "nbformat_minor": 5
}
