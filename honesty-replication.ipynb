{
 "cells": [
  {
   "cell_type": "markdown",
   "id": "272bfbbd-89ba-47a8-bc53-b3802fa3e591",
   "metadata": {},
   "source": [
    "## Setup"
   ]
  },
  {
   "cell_type": "code",
   "execution_count": 1,
   "id": "bb12d2be-a4e4-410a-81ab-194d5279948a",
   "metadata": {},
   "outputs": [],
   "source": [
    "import pandas as pd\n",
    "from transformers import AutoModelForCausalLM, AutoTokenizer, pipeline\n",
    "from collections import defaultdict\n",
    "import os\n",
    "import pickle\n",
    "from tqdm import tqdm\n",
    "import torch\n",
    "import numpy as np"
   ]
  },
  {
   "cell_type": "code",
   "execution_count": 2,
   "id": "b4e3c7c6-e509-4a36-b4c3-584215440a02",
   "metadata": {},
   "outputs": [],
   "source": [
    "model_path = '/storage/models'\n",
    "model_name = 'mistral-GPTQ-4bit'\n",
    "device='cuda:0'"
   ]
  },
  {
   "cell_type": "code",
   "execution_count": 3,
   "id": "4807cf49-cfb0-4998-8060-f0c46b05a65e",
   "metadata": {},
   "outputs": [],
   "source": [
    "model_name_or_path = f'{model_path}/{model_name}'\n",
    "model = AutoModelForCausalLM.from_pretrained(model_name_or_path, torch_dtype=torch.float16, device_map='auto')\n",
    "tokenizer = AutoTokenizer.from_pretrained(model_name_or_path, use_fast=True, padding_side=\"left\", legacy=False)\n",
    "tokenizer.pad_token_id = 0"
   ]
  },
  {
   "cell_type": "markdown",
   "id": "248ce017-3812-49c2-b386-170c7b6a61d7",
   "metadata": {},
   "source": [
    "## Load data"
   ]
  },
  {
   "cell_type": "code",
   "execution_count": 4,
   "id": "a86fa87d-11ba-4b44-be3e-c0056395ff2a",
   "metadata": {},
   "outputs": [],
   "source": [
    "data = pd.read_csv('./data/facts/facts_true_false.csv')"
   ]
  },
  {
   "cell_type": "code",
   "execution_count": 5,
   "id": "4aaf43b3-2b66-4257-9fbb-dd05e08f2e84",
   "metadata": {},
   "outputs": [],
   "source": [
    "def prompt_maker(stimulus, honesty):\n",
    "    user_tag = \"[INST]\"\n",
    "    assistant_tag = \"[/INST]\"\n",
    "    honesty_str = 'honest' if honesty else 'untruthful'\n",
    "    prompt = f\"{user_tag} Pretend you're an {honesty_str} person making statements about the world. {assistant_tag} {stimulus}\"\n",
    "    return prompt"
   ]
  },
  {
   "cell_type": "code",
   "execution_count": 6,
   "id": "e7891cb3-da82-4507-a35f-bcfddcab0278",
   "metadata": {},
   "outputs": [
    {
     "data": {
      "text/plain": [
       "(2342, 2)"
      ]
     },
     "execution_count": 6,
     "metadata": {},
     "output_type": "execute_result"
    }
   ],
   "source": [
    "statement_pairs = []\n",
    "statements = data[data['label'] == 1]['statement'].values.tolist() # they only use label=1 for some reason\n",
    "for statement in statements:\n",
    "    tokens = tokenizer.tokenize(statement)\n",
    "    for idx in range(1, len(tokens)-5):\n",
    "        substatement = tokenizer.convert_tokens_to_string(tokens[:idx])\n",
    "        honest_statement = prompt_maker(substatement, True)\n",
    "        dishonest_statement = prompt_maker(substatement, False)\n",
    "        statement_pairs.append([honest_statement, dishonest_statement])\n",
    "statement_pairs = np.array(statement_pairs)\n",
    "statement_pairs.shape"
   ]
  },
  {
   "cell_type": "markdown",
   "id": "815f2e4d-bf2f-4d76-84fd-cc4a971b1af1",
   "metadata": {},
   "source": [
    "## Get directions"
   ]
  },
  {
   "cell_type": "code",
   "execution_count": 7,
   "id": "84466cf6-eac0-4e3b-a1f2-8a798e9e3ba8",
   "metadata": {},
   "outputs": [],
   "source": [
    "# get the hiddens per pair\n",
    "from collections import defaultdict\n",
    "layer_to_act_pairs = defaultdict(list)\n",
    "read_token = -1\n",
    "batch_size = 16\n",
    "samples = 512 + 256\n",
    "for i in range(0, samples, batch_size):\n",
    "    pairs = statement_pairs[i:i+batch_size]\n",
    "    statements = pairs.reshape(-1)\n",
    "    model_inputs = tokenizer(list(statements), padding=True, return_tensors='pt').to(device)\n",
    "    hiddens = model(**model_inputs, output_hidden_states=True)\n",
    "    for layer in range(model.config.num_hidden_layers):\n",
    "        act_pairs = hiddens['hidden_states'][layer+1][:, read_token, :].view(batch_size, 2, -1)\n",
    "        layer_to_act_pairs[layer].extend(act_pairs)\n",
    "            \n",
    "for key in layer_to_act_pairs:\n",
    "    layer_to_act_pairs[key] = torch.stack(layer_to_act_pairs[key])"
   ]
  },
  {
   "cell_type": "code",
   "execution_count": 8,
   "id": "45d9d8f7-fbaf-4779-9fce-8aa110589c6c",
   "metadata": {},
   "outputs": [],
   "source": [
    "from sklearn.decomposition import PCA\n",
    "import random\n",
    "\n",
    "def get_directions(n_train):\n",
    "    directions = {}\n",
    "    signs = {}\n",
    "    mean_diffs = {}\n",
    "    for layer in layer_to_act_pairs:\n",
    "        act_pairs = layer_to_act_pairs[layer][:n_train]\n",
    "        shuffled_pairs = [] # shuffling train labels before pca useful for some reason \n",
    "        for pair in act_pairs:\n",
    "            pair = pair[torch.randperm(2)]\n",
    "            shuffled_pairs.append(pair)\n",
    "        shuffled_pairs = torch.stack(shuffled_pairs)\n",
    "        diffs = shuffled_pairs[:, 0, :] - shuffled_pairs[:, 1, :] \n",
    "        mean_diffs[layer] = torch.mean(diffs, axis=0)\n",
    "        centered_diffs = diffs - mean_diffs[layer]\n",
    "        pca = PCA(n_components=1)\n",
    "        pca.fit(centered_diffs.detach().cpu())\n",
    "        directions[layer] = torch.tensor(pca.components_[0], dtype=torch.float16).to(device)\n",
    "        \n",
    "        # get signs\n",
    "        act_pairs = layer_to_act_pairs[layer][:n_train] - mean_diffs[layer]\n",
    "        projections = act_pairs @ directions[layer] / directions[layer].norm()\n",
    "        acc = np.mean([(pi > pj).item() for (pi, pj) in projections])\n",
    "        sign = -1 if acc < .5 else 1\n",
    "        signs[layer] = sign\n",
    "    return directions, signs, mean_diffs"
   ]
  },
  {
   "cell_type": "code",
   "execution_count": 9,
   "id": "8efc1a6f-a9a1-4449-a5a7-2989238c03d8",
   "metadata": {},
   "outputs": [],
   "source": [
    "# compute projections/predictions\n",
    "\n",
    "def projections(n_test):\n",
    "    accs = []\n",
    "    for layer in range(model.config.num_hidden_layers):\n",
    "        act_pairs = layer_to_act_pairs[layer][n_train:n_train+n_test] - mean_diffs[layer]\n",
    "        projections = signs[layer] * act_pairs @ directions[layer] / directions[layer].norm()\n",
    "        # print(projections)\n",
    "        acc = np.mean([(pi > pj).item() for (pi, pj) in projections])\n",
    "        accs.append(acc)\n",
    "    return accs"
   ]
  },
  {
   "cell_type": "code",
   "execution_count": 10,
   "id": "84a3e773-bb8b-4d58-b0c9-7b5d2caf5763",
   "metadata": {
    "tags": []
   },
   "outputs": [],
   "source": [
    "n_train, n_test = 512, 256\n",
    "directions, signs, mean_diffs = get_directions(n_train)"
   ]
  },
  {
   "cell_type": "code",
   "execution_count": 11,
   "id": "ff68529b-695d-48af-9ede-b1238487cdb0",
   "metadata": {},
   "outputs": [],
   "source": [
    "accs = projections(n_test)"
   ]
  },
  {
   "cell_type": "code",
   "execution_count": 12,
   "id": "3a5a7676-4ba0-4a8e-91b5-7425df857a08",
   "metadata": {},
   "outputs": [
    {
     "data": {
      "image/png": "[encoded data removed]",
      "text/plain": [
       "<Figure size 640x480 with 1 Axes>"
      ]
     },
     "metadata": {},
     "output_type": "display_data"
    }
   ],
   "source": [
    "import matplotlib.pyplot as plt\n",
    "plt.plot(accs, '-o')\n",
    "plt.show()"
   ]
  },
  {
   "cell_type": "code",
   "execution_count": null,
   "id": "98f7d354-7f05-4a51-adc2-71562c40201d",
   "metadata": {},
   "outputs": [],
   "source": []
  },
  {
   "cell_type": "code",
   "execution_count": null,
   "id": "84768321-dc85-4eac-91a0-3979ca05a149",
   "metadata": {},
   "outputs": [],
   "source": []
  }
 ],
 "metadata": {
  "kernelspec": {
   "display_name": "Python 3 (ipykernel)",
   "language": "python",
   "name": "python3"
  },
  "language_info": {
   "codemirror_mode": {
    "name": "ipython",
    "version": 3
   },
   "file_extension": ".py",
   "mimetype": "text/x-python",
   "name": "python",
   "nbconvert_exporter": "python",
   "pygments_lexer": "ipython3",
   "version": "3.9.16"
  }
 },
 "nbformat": 4,
 "nbformat_minor": 5
}
